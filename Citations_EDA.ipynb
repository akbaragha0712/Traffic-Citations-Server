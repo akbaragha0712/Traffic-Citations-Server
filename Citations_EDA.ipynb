{
 "cells": [
  {
   "cell_type": "markdown",
   "metadata": {},
   "source": [
    "Import dependencies"
   ]
  },
  {
   "cell_type": "code",
   "execution_count": 2,
   "metadata": {},
   "outputs": [],
   "source": [
    "import numpy as np\n",
    "import pandas as pd\n",
    "import matplotlib.pyplot as plt\n",
    "import seaborn as sns\n",
    "from scipy.stats import kde\n",
    "import pylab as pl"
   ]
  },
  {
   "cell_type": "code",
   "execution_count": 3,
   "metadata": {},
   "outputs": [],
   "source": [
    "file_dtypes = {'Ticket number': str, 'Issue time': np.float64, 'Meter Id': str, 'Marked Time': str,\n",
    "       'RP State Plate': str, 'Plate Expiry Date': str, 'VIN': str, 'Make': str, 'Body Style': str,\n",
    "       'Color': str, 'Location': str, 'Route': str, 'Agency': np.float64, 'Violation code': str,\n",
    "       'Violation Description': str, 'Fine amount': np.float32, 'Latitude': np.float32, 'Longitude': np.float32}\n",
    "\n",
    "df_tc = pd.read_csv('data/parking_citations.corrupted.csv',\n",
    "                    dtype=file_dtypes,\n",
    "                    parse_dates=['Issue Date'],\n",
    "                   index_col=['Ticket number'])"
   ]
  },
  {
   "cell_type": "code",
   "execution_count": 34,
   "metadata": {
    "scrolled": true
   },
   "outputs": [
    {
     "data": {
      "text/html": [
       "<div>\n",
       "<style scoped>\n",
       "    .dataframe tbody tr th:only-of-type {\n",
       "        vertical-align: middle;\n",
       "    }\n",
       "\n",
       "    .dataframe tbody tr th {\n",
       "        vertical-align: top;\n",
       "    }\n",
       "\n",
       "    .dataframe thead th {\n",
       "        text-align: right;\n",
       "    }\n",
       "</style>\n",
       "<table border=\"1\" class=\"dataframe\">\n",
       "  <thead>\n",
       "    <tr style=\"text-align: right;\">\n",
       "      <th></th>\n",
       "      <th>Unnamed: 0</th>\n",
       "      <th>Ticket number</th>\n",
       "      <th>Issue Date</th>\n",
       "      <th>Issue time</th>\n",
       "      <th>Meter Id</th>\n",
       "      <th>Marked Time</th>\n",
       "      <th>RP State Plate</th>\n",
       "      <th>Plate Expiry Date</th>\n",
       "      <th>VIN</th>\n",
       "      <th>Make</th>\n",
       "      <th>Body Style</th>\n",
       "      <th>Color</th>\n",
       "      <th>Location</th>\n",
       "      <th>Route</th>\n",
       "      <th>Agency</th>\n",
       "      <th>Violation code</th>\n",
       "      <th>Violation Description</th>\n",
       "      <th>Fine amount</th>\n",
       "      <th>Latitude</th>\n",
       "      <th>Longitude</th>\n",
       "    </tr>\n",
       "  </thead>\n",
       "  <tbody>\n",
       "    <tr>\n",
       "      <th>0</th>\n",
       "      <td>0</td>\n",
       "      <td>1103341116</td>\n",
       "      <td>2015-12-21</td>\n",
       "      <td>1251.0</td>\n",
       "      <td>NaN</td>\n",
       "      <td>NaN</td>\n",
       "      <td>CA</td>\n",
       "      <td>200304.0</td>\n",
       "      <td>NaN</td>\n",
       "      <td>NaN</td>\n",
       "      <td>PA</td>\n",
       "      <td>GY</td>\n",
       "      <td>13147 WELBY WAY</td>\n",
       "      <td>01521</td>\n",
       "      <td>1.0</td>\n",
       "      <td>4000A1</td>\n",
       "      <td>NO EVIDENCE OF REG</td>\n",
       "      <td>50.0</td>\n",
       "      <td>99999.0</td>\n",
       "      <td>99999.000</td>\n",
       "    </tr>\n",
       "    <tr>\n",
       "      <th>1</th>\n",
       "      <td>1</td>\n",
       "      <td>1103700150</td>\n",
       "      <td>2015-12-21</td>\n",
       "      <td>1435.0</td>\n",
       "      <td>NaN</td>\n",
       "      <td>NaN</td>\n",
       "      <td>CA</td>\n",
       "      <td>201512.0</td>\n",
       "      <td>NaN</td>\n",
       "      <td>NaN</td>\n",
       "      <td>VN</td>\n",
       "      <td>WH</td>\n",
       "      <td>525 S MAIN ST</td>\n",
       "      <td>1C51</td>\n",
       "      <td>1.0</td>\n",
       "      <td>4000A1</td>\n",
       "      <td>NO EVIDENCE OF REG</td>\n",
       "      <td>50.0</td>\n",
       "      <td>99999.0</td>\n",
       "      <td>99999.000</td>\n",
       "    </tr>\n",
       "    <tr>\n",
       "      <th>2</th>\n",
       "      <td>2</td>\n",
       "      <td>1104803000</td>\n",
       "      <td>2015-12-21</td>\n",
       "      <td>2055.0</td>\n",
       "      <td>NaN</td>\n",
       "      <td>NaN</td>\n",
       "      <td>CA</td>\n",
       "      <td>201503.0</td>\n",
       "      <td>NaN</td>\n",
       "      <td>NaN</td>\n",
       "      <td>PA</td>\n",
       "      <td>BK</td>\n",
       "      <td>200 WORLD WAY</td>\n",
       "      <td>2R2</td>\n",
       "      <td>2.0</td>\n",
       "      <td>8939</td>\n",
       "      <td>WHITE CURB</td>\n",
       "      <td>58.0</td>\n",
       "      <td>6439998.0</td>\n",
       "      <td>1802686.375</td>\n",
       "    </tr>\n",
       "    <tr>\n",
       "      <th>3</th>\n",
       "      <td>3</td>\n",
       "      <td>1104820732</td>\n",
       "      <td>2015-12-26</td>\n",
       "      <td>1515.0</td>\n",
       "      <td>NaN</td>\n",
       "      <td>NaN</td>\n",
       "      <td>CA</td>\n",
       "      <td>NaN</td>\n",
       "      <td>NaN</td>\n",
       "      <td>NaN</td>\n",
       "      <td>PA</td>\n",
       "      <td>WH</td>\n",
       "      <td>100 WORLD WAY</td>\n",
       "      <td>2F11</td>\n",
       "      <td>2.0</td>\n",
       "      <td>000</td>\n",
       "      <td>17104h</td>\n",
       "      <td>NaN</td>\n",
       "      <td>6440041.0</td>\n",
       "      <td>1802686.250</td>\n",
       "    </tr>\n",
       "    <tr>\n",
       "      <th>4</th>\n",
       "      <td>4</td>\n",
       "      <td>1105461453</td>\n",
       "      <td>2015-09-15</td>\n",
       "      <td>115.0</td>\n",
       "      <td>NaN</td>\n",
       "      <td>NaN</td>\n",
       "      <td>CA</td>\n",
       "      <td>200316.0</td>\n",
       "      <td>NaN</td>\n",
       "      <td>CHEV</td>\n",
       "      <td>PA</td>\n",
       "      <td>BK</td>\n",
       "      <td>GEORGIA ST/OLYMPIC</td>\n",
       "      <td>1FB70</td>\n",
       "      <td>1.0</td>\n",
       "      <td>8069A</td>\n",
       "      <td>NO STOPPING/STANDING</td>\n",
       "      <td>93.0</td>\n",
       "      <td>99999.0</td>\n",
       "      <td>99999.000</td>\n",
       "    </tr>\n",
       "    <tr>\n",
       "      <th>5</th>\n",
       "      <td>5</td>\n",
       "      <td>1106226590</td>\n",
       "      <td>2015-09-15</td>\n",
       "      <td>19.0</td>\n",
       "      <td>NaN</td>\n",
       "      <td>NaN</td>\n",
       "      <td>CA</td>\n",
       "      <td>201507.0</td>\n",
       "      <td>NaN</td>\n",
       "      <td>NaN</td>\n",
       "      <td>VN</td>\n",
       "      <td>GY</td>\n",
       "      <td>SAN PEDRO S/O BOYD</td>\n",
       "      <td>1A35W</td>\n",
       "      <td>1.0</td>\n",
       "      <td>4000A1</td>\n",
       "      <td>NO EVIDENCE OF REG</td>\n",
       "      <td>50.0</td>\n",
       "      <td>99999.0</td>\n",
       "      <td>99999.000</td>\n",
       "    </tr>\n",
       "    <tr>\n",
       "      <th>6</th>\n",
       "      <td>6</td>\n",
       "      <td>1106500452</td>\n",
       "      <td>2015-12-17</td>\n",
       "      <td>1710.0</td>\n",
       "      <td>NaN</td>\n",
       "      <td>NaN</td>\n",
       "      <td>CA</td>\n",
       "      <td>201605.0</td>\n",
       "      <td>NaN</td>\n",
       "      <td>MAZD</td>\n",
       "      <td>PA</td>\n",
       "      <td>BL</td>\n",
       "      <td>SUNSET/ALVARADO</td>\n",
       "      <td>00217</td>\n",
       "      <td>1.0</td>\n",
       "      <td>8070</td>\n",
       "      <td>PARK IN GRID LOCK ZN</td>\n",
       "      <td>163.0</td>\n",
       "      <td>99999.0</td>\n",
       "      <td>99999.000</td>\n",
       "    </tr>\n",
       "    <tr>\n",
       "      <th>7</th>\n",
       "      <td>7</td>\n",
       "      <td>1106500463</td>\n",
       "      <td>2015-12-17</td>\n",
       "      <td>1710.0</td>\n",
       "      <td>NaN</td>\n",
       "      <td>NaN</td>\n",
       "      <td>CA</td>\n",
       "      <td>201602.0</td>\n",
       "      <td>NaN</td>\n",
       "      <td>NaN</td>\n",
       "      <td>PA</td>\n",
       "      <td>BK</td>\n",
       "      <td>SUNSET/ALVARADO</td>\n",
       "      <td>00217</td>\n",
       "      <td>1.0</td>\n",
       "      <td>8070</td>\n",
       "      <td>PARK IN GRID LOCK ZN</td>\n",
       "      <td>163.0</td>\n",
       "      <td>99999.0</td>\n",
       "      <td>99999.000</td>\n",
       "    </tr>\n",
       "    <tr>\n",
       "      <th>8</th>\n",
       "      <td>8</td>\n",
       "      <td>1106506402</td>\n",
       "      <td>2015-12-22</td>\n",
       "      <td>945.0</td>\n",
       "      <td>NaN</td>\n",
       "      <td>NaN</td>\n",
       "      <td>CA</td>\n",
       "      <td>201605.0</td>\n",
       "      <td>NaN</td>\n",
       "      <td>NaN</td>\n",
       "      <td>PA</td>\n",
       "      <td>BR</td>\n",
       "      <td>721 S WESTLAKE</td>\n",
       "      <td>2A75</td>\n",
       "      <td>1.0</td>\n",
       "      <td>8069AA</td>\n",
       "      <td>NO STOP/STAND AM</td>\n",
       "      <td>93.0</td>\n",
       "      <td>99999.0</td>\n",
       "      <td>99999.000</td>\n",
       "    </tr>\n",
       "    <tr>\n",
       "      <th>9</th>\n",
       "      <td>9</td>\n",
       "      <td>1106506413</td>\n",
       "      <td>2015-12-22</td>\n",
       "      <td>1100.0</td>\n",
       "      <td>NaN</td>\n",
       "      <td>NaN</td>\n",
       "      <td>CA</td>\n",
       "      <td>201701.0</td>\n",
       "      <td>NaN</td>\n",
       "      <td>NaN</td>\n",
       "      <td>PA</td>\n",
       "      <td>SI</td>\n",
       "      <td>1159 HUNTLEY DR</td>\n",
       "      <td>2A75</td>\n",
       "      <td>1.0</td>\n",
       "      <td>8069AA</td>\n",
       "      <td>NO STOP/STAND AM</td>\n",
       "      <td>93.0</td>\n",
       "      <td>99999.0</td>\n",
       "      <td>99999.000</td>\n",
       "    </tr>\n",
       "    <tr>\n",
       "      <th>10</th>\n",
       "      <td>10</td>\n",
       "      <td>1106506424</td>\n",
       "      <td>2015-12-22</td>\n",
       "      <td>1100.0</td>\n",
       "      <td>NaN</td>\n",
       "      <td>NaN</td>\n",
       "      <td>CA</td>\n",
       "      <td>201511.0</td>\n",
       "      <td>NaN</td>\n",
       "      <td>FORD</td>\n",
       "      <td>TR</td>\n",
       "      <td>WH</td>\n",
       "      <td>1159 HUNTLEY DR</td>\n",
       "      <td>2A75</td>\n",
       "      <td>1.0</td>\n",
       "      <td>8069AA</td>\n",
       "      <td>NO STOP/STAND AM</td>\n",
       "      <td>93.0</td>\n",
       "      <td>99999.0</td>\n",
       "      <td>99999.000</td>\n",
       "    </tr>\n",
       "    <tr>\n",
       "      <th>11</th>\n",
       "      <td>11</td>\n",
       "      <td>1106506435</td>\n",
       "      <td>2015-12-22</td>\n",
       "      <td>1105.0</td>\n",
       "      <td>NaN</td>\n",
       "      <td>NaN</td>\n",
       "      <td>CA</td>\n",
       "      <td>201701.0</td>\n",
       "      <td>NaN</td>\n",
       "      <td>CHRY</td>\n",
       "      <td>PA</td>\n",
       "      <td>GO</td>\n",
       "      <td>1159 HUNTLEY DR</td>\n",
       "      <td>2A75</td>\n",
       "      <td>1.0</td>\n",
       "      <td>8069AA</td>\n",
       "      <td>NO STOP/STAND AM</td>\n",
       "      <td>93.0</td>\n",
       "      <td>99999.0</td>\n",
       "      <td>99999.000</td>\n",
       "    </tr>\n",
       "    <tr>\n",
       "      <th>12</th>\n",
       "      <td>12</td>\n",
       "      <td>1106506446</td>\n",
       "      <td>2015-12-22</td>\n",
       "      <td>1110.0</td>\n",
       "      <td>NaN</td>\n",
       "      <td>NaN</td>\n",
       "      <td>CA</td>\n",
       "      <td>201511.0</td>\n",
       "      <td>NaN</td>\n",
       "      <td>NaN</td>\n",
       "      <td>PA</td>\n",
       "      <td>BK</td>\n",
       "      <td>1200 W MIRAMAR</td>\n",
       "      <td>2A75</td>\n",
       "      <td>1.0</td>\n",
       "      <td>4000A1</td>\n",
       "      <td>NO EVIDENCE OF REG</td>\n",
       "      <td>50.0</td>\n",
       "      <td>99999.0</td>\n",
       "      <td>99999.000</td>\n",
       "    </tr>\n",
       "    <tr>\n",
       "      <th>13</th>\n",
       "      <td>13</td>\n",
       "      <td>1106549754</td>\n",
       "      <td>2015-12-15</td>\n",
       "      <td>825.0</td>\n",
       "      <td>NaN</td>\n",
       "      <td>NaN</td>\n",
       "      <td>CA</td>\n",
       "      <td>201607.0</td>\n",
       "      <td>NaN</td>\n",
       "      <td>NaN</td>\n",
       "      <td>TR</td>\n",
       "      <td>BK</td>\n",
       "      <td>4TH/STATE</td>\n",
       "      <td>CM96</td>\n",
       "      <td>1.0</td>\n",
       "      <td>8069A</td>\n",
       "      <td>NO STOPPING/STANDING</td>\n",
       "      <td>93.0</td>\n",
       "      <td>99999.0</td>\n",
       "      <td>99999.000</td>\n",
       "    </tr>\n",
       "    <tr>\n",
       "      <th>14</th>\n",
       "      <td>14</td>\n",
       "      <td>1107179581</td>\n",
       "      <td>2015-12-27</td>\n",
       "      <td>1055.0</td>\n",
       "      <td>NaN</td>\n",
       "      <td>NaN</td>\n",
       "      <td>CA</td>\n",
       "      <td>201605.0</td>\n",
       "      <td>NaN</td>\n",
       "      <td>TOYO</td>\n",
       "      <td>PA</td>\n",
       "      <td>BK</td>\n",
       "      <td>3100 N HOLLYRIDGE DR</td>\n",
       "      <td>NaN</td>\n",
       "      <td>54.0</td>\n",
       "      <td>8058L</td>\n",
       "      <td>PREF PARKING</td>\n",
       "      <td>68.0</td>\n",
       "      <td>99999.0</td>\n",
       "      <td>99999.000</td>\n",
       "    </tr>\n",
       "  </tbody>\n",
       "</table>\n",
       "</div>"
      ],
      "text/plain": [
       "    Unnamed: 0 Ticket number Issue Date  Issue time Meter Id Marked Time  \\\n",
       "0            0    1103341116 2015-12-21      1251.0      NaN         NaN   \n",
       "1            1    1103700150 2015-12-21      1435.0      NaN         NaN   \n",
       "2            2    1104803000 2015-12-21      2055.0      NaN         NaN   \n",
       "3            3    1104820732 2015-12-26      1515.0      NaN         NaN   \n",
       "4            4    1105461453 2015-09-15       115.0      NaN         NaN   \n",
       "5            5    1106226590 2015-09-15        19.0      NaN         NaN   \n",
       "6            6    1106500452 2015-12-17      1710.0      NaN         NaN   \n",
       "7            7    1106500463 2015-12-17      1710.0      NaN         NaN   \n",
       "8            8    1106506402 2015-12-22       945.0      NaN         NaN   \n",
       "9            9    1106506413 2015-12-22      1100.0      NaN         NaN   \n",
       "10          10    1106506424 2015-12-22      1100.0      NaN         NaN   \n",
       "11          11    1106506435 2015-12-22      1105.0      NaN         NaN   \n",
       "12          12    1106506446 2015-12-22      1110.0      NaN         NaN   \n",
       "13          13    1106549754 2015-12-15       825.0      NaN         NaN   \n",
       "14          14    1107179581 2015-12-27      1055.0      NaN         NaN   \n",
       "\n",
       "   RP State Plate Plate Expiry Date  VIN  Make Body Style Color  \\\n",
       "0              CA          200304.0  NaN   NaN         PA    GY   \n",
       "1              CA          201512.0  NaN   NaN         VN    WH   \n",
       "2              CA          201503.0  NaN   NaN         PA    BK   \n",
       "3              CA               NaN  NaN   NaN         PA    WH   \n",
       "4              CA          200316.0  NaN  CHEV         PA    BK   \n",
       "5              CA          201507.0  NaN   NaN         VN    GY   \n",
       "6              CA          201605.0  NaN  MAZD         PA    BL   \n",
       "7              CA          201602.0  NaN   NaN         PA    BK   \n",
       "8              CA          201605.0  NaN   NaN         PA    BR   \n",
       "9              CA          201701.0  NaN   NaN         PA    SI   \n",
       "10             CA          201511.0  NaN  FORD         TR    WH   \n",
       "11             CA          201701.0  NaN  CHRY         PA    GO   \n",
       "12             CA          201511.0  NaN   NaN         PA    BK   \n",
       "13             CA          201607.0  NaN   NaN         TR    BK   \n",
       "14             CA          201605.0  NaN  TOYO         PA    BK   \n",
       "\n",
       "                Location  Route  Agency Violation code Violation Description  \\\n",
       "0        13147 WELBY WAY  01521     1.0         4000A1    NO EVIDENCE OF REG   \n",
       "1          525 S MAIN ST   1C51     1.0         4000A1    NO EVIDENCE OF REG   \n",
       "2          200 WORLD WAY    2R2     2.0           8939            WHITE CURB   \n",
       "3          100 WORLD WAY   2F11     2.0            000                17104h   \n",
       "4     GEORGIA ST/OLYMPIC  1FB70     1.0          8069A  NO STOPPING/STANDING   \n",
       "5     SAN PEDRO S/O BOYD  1A35W     1.0         4000A1    NO EVIDENCE OF REG   \n",
       "6        SUNSET/ALVARADO  00217     1.0           8070  PARK IN GRID LOCK ZN   \n",
       "7        SUNSET/ALVARADO  00217     1.0           8070  PARK IN GRID LOCK ZN   \n",
       "8         721 S WESTLAKE   2A75     1.0         8069AA      NO STOP/STAND AM   \n",
       "9        1159 HUNTLEY DR   2A75     1.0         8069AA      NO STOP/STAND AM   \n",
       "10       1159 HUNTLEY DR   2A75     1.0         8069AA      NO STOP/STAND AM   \n",
       "11       1159 HUNTLEY DR   2A75     1.0         8069AA      NO STOP/STAND AM   \n",
       "12        1200 W MIRAMAR   2A75     1.0         4000A1    NO EVIDENCE OF REG   \n",
       "13             4TH/STATE   CM96     1.0          8069A  NO STOPPING/STANDING   \n",
       "14  3100 N HOLLYRIDGE DR    NaN    54.0          8058L          PREF PARKING   \n",
       "\n",
       "    Fine amount   Latitude    Longitude  \n",
       "0          50.0    99999.0    99999.000  \n",
       "1          50.0    99999.0    99999.000  \n",
       "2          58.0  6439998.0  1802686.375  \n",
       "3           NaN  6440041.0  1802686.250  \n",
       "4          93.0    99999.0    99999.000  \n",
       "5          50.0    99999.0    99999.000  \n",
       "6         163.0    99999.0    99999.000  \n",
       "7         163.0    99999.0    99999.000  \n",
       "8          93.0    99999.0    99999.000  \n",
       "9          93.0    99999.0    99999.000  \n",
       "10         93.0    99999.0    99999.000  \n",
       "11         93.0    99999.0    99999.000  \n",
       "12         50.0    99999.0    99999.000  \n",
       "13         93.0    99999.0    99999.000  \n",
       "14         68.0    99999.0    99999.000  "
      ]
     },
     "execution_count": 34,
     "metadata": {},
     "output_type": "execute_result"
    }
   ],
   "source": [
    "# print(df_tc)\n",
    "df_tc.head(15)"
   ]
  },
  {
   "cell_type": "code",
   "execution_count": 5,
   "metadata": {},
   "outputs": [
    {
     "data": {
      "text/plain": [
       "(8726014, 20)"
      ]
     },
     "execution_count": 5,
     "metadata": {},
     "output_type": "execute_result"
    }
   ],
   "source": [
    "df_tc.shape"
   ]
  },
  {
   "cell_type": "code",
   "execution_count": 6,
   "metadata": {},
   "outputs": [
    {
     "name": "stdout",
     "output_type": "stream",
     "text": [
      "<class 'pandas.core.frame.DataFrame'>\n",
      "RangeIndex: 8726014 entries, 0 to 8726013\n",
      "Data columns (total 20 columns):\n",
      " #   Column                 Dtype  \n",
      "---  ------                 -----  \n",
      " 0   Unnamed: 0             int64  \n",
      " 1   Ticket number          object \n",
      " 2   Issue Date             object \n",
      " 3   Issue time             float64\n",
      " 4   Meter Id               object \n",
      " 5   Marked Time            float64\n",
      " 6   RP State Plate         object \n",
      " 7   Plate Expiry Date      float64\n",
      " 8   VIN                    object \n",
      " 9   Make                   object \n",
      " 10  Body Style             object \n",
      " 11  Color                  object \n",
      " 12  Location               object \n",
      " 13  Route                  object \n",
      " 14  Agency                 float64\n",
      " 15  Violation code         object \n",
      " 16  Violation Description  object \n",
      " 17  Fine amount            float64\n",
      " 18  Latitude               float64\n",
      " 19  Longitude              float64\n",
      "dtypes: float64(7), int64(1), object(12)\n",
      "memory usage: 1.3+ GB\n"
     ]
    }
   ],
   "source": [
    "df_tc.info()"
   ]
  },
  {
   "cell_type": "code",
   "execution_count": 24,
   "metadata": {},
   "outputs": [
    {
     "data": {
      "text/plain": [
       "TOYT    721411\n",
       "HOND    491961\n",
       "FORD    382695\n",
       "NISS    311324\n",
       "CHEV    297076\n",
       "         ...  \n",
       "CMDR         1\n",
       "SATO         1\n",
       "FRKT         1\n",
       "DOOH         1\n",
       "HOU          1\n",
       "Name: Make, Length: 1477, dtype: int64"
      ]
     },
     "execution_count": 24,
     "metadata": {},
     "output_type": "execute_result"
    }
   ],
   "source": [
    "df_tc.Make.value_counts()"
   ]
  },
  {
   "cell_type": "code",
   "execution_count": 8,
   "metadata": {},
   "outputs": [
    {
     "data": {
      "text/plain": [
       "CA    8127986\n",
       "AZ      77649\n",
       "TX      55337\n",
       "NV      51944\n",
       "FL      37924\n",
       "       ...   \n",
       "AS         16\n",
       "NF         13\n",
       "YU          8\n",
       "|           2\n",
       "ML          1\n",
       "Name: RP State Plate, Length: 78, dtype: int64"
      ]
     },
     "execution_count": 8,
     "metadata": {},
     "output_type": "execute_result"
    }
   ],
   "source": [
    "df_tc['RP State Plate'].value_counts()"
   ]
  },
  {
   "cell_type": "code",
   "execution_count": 9,
   "metadata": {},
   "outputs": [
    {
     "data": {
      "text/plain": [
       "2016-01-19T00:00:00    9830\n",
       "2014-12-31T00:00:00    9605\n",
       "2016-05-05T00:00:00    9366\n",
       "2016-02-23T00:00:00    9339\n",
       "2015-06-09T00:00:00    9275\n",
       "                       ... \n",
       "2012-08-10T00:00:00       1\n",
       "2014-04-20T00:00:00       1\n",
       "2012-02-21T00:00:00       1\n",
       "2014-06-08T00:00:00       1\n",
       "2014-11-14T00:00:00       1\n",
       "Name: Issue Date, Length: 1843, dtype: int64"
      ]
     },
     "execution_count": 9,
     "metadata": {},
     "output_type": "execute_result"
    }
   ],
   "source": [
    "df_tc['Issue Date'].value_counts()"
   ]
  },
  {
   "cell_type": "code",
   "execution_count": 10,
   "metadata": {},
   "outputs": [
    {
     "data": {
      "text/plain": [
       "PA    7673976\n",
       "PU     298897\n",
       "VN     233505\n",
       "TK     213271\n",
       "CM     140263\n",
       "       ...   \n",
       "RH          1\n",
       "DU          1\n",
       "US          1\n",
       "NH          1\n",
       "JA          1\n",
       "Name: Body Style, Length: 191, dtype: int64"
      ]
     },
     "execution_count": 10,
     "metadata": {},
     "output_type": "execute_result"
    }
   ],
   "source": [
    "df_tc['Body Style'].value_counts()"
   ]
  },
  {
   "cell_type": "code",
   "execution_count": 11,
   "metadata": {},
   "outputs": [
    {
     "data": {
      "text/plain": [
       "NO PARK/STREET CLEAN    2530294\n",
       "METER EXP.              1524589\n",
       "RED ZONE                 646198\n",
       "PREFERENTIAL PARKING     599200\n",
       "DISPLAY OF TABS          535798\n",
       "                         ...   \n",
       "134200                        1\n",
       "8813C                         1\n",
       "5202C                         1\n",
       "6444K                         1\n",
       "52011                         1\n",
       "Name: Violation Description, Length: 795, dtype: int64"
      ]
     },
     "execution_count": 11,
     "metadata": {},
     "output_type": "execute_result"
    }
   ],
   "source": [
    "df_tc['Violation Description'].value_counts()"
   ]
  },
  {
   "cell_type": "code",
   "execution_count": 12,
   "metadata": {},
   "outputs": [
    {
     "data": {
      "text/plain": [
       "<AxesSubplot:ylabel='Frequency'>"
      ]
     },
     "execution_count": 12,
     "metadata": {},
     "output_type": "execute_result"
    },
    {
     "data": {
      "image/png": "[encoded data removed]",
      "text/plain": [
       "<Figure size 1440x720 with 1 Axes>"
      ]
     },
     "metadata": {
      "needs_background": "light"
     },
     "output_type": "display_data"
    }
   ],
   "source": [
    "df_tc['Fine amount'].plot(kind=\"hist\", bins=200, xlim=(0,100), figsize=(20,10))"
   ]
  },
  {
   "cell_type": "code",
   "execution_count": 7,
   "metadata": {},
   "outputs": [
    {
     "data": {
      "image/png": "[encoded data removed]",
      "text/plain": [
       "<Figure size 1440x720 with 1 Axes>"
      ]
     },
     "metadata": {
      "needs_background": "light"
     },
     "output_type": "display_data"
    }
   ],
   "source": [
    "fine_arr = np.array(df_tc['Fine amount'].dropna())\n",
    "fine_arr = np.sort(fine_arr)\n",
    "# print(fine_arr)\n",
    "\n",
    "# density = kde.gaussian_kde(fine_arr)\n",
    "# y=density(fine_arr)\n",
    "\n",
    "# plt.plot(fine_arr, y)\n",
    "\n",
    "# sns.set(rc = {'figure.figsize':(15,8)})\n",
    "# sns.displot(fine_arr,kde=True)\n",
    "plt.figure(figsize=(20, 10))\n",
    "sns.kdeplot(data=fine_arr)\n",
    "plt.show()"
   ]
  },
  {
   "cell_type": "code",
   "execution_count": 13,
   "metadata": {},
   "outputs": [
    {
     "data": {
      "text/plain": [
       "73.0     2921569\n",
       "63.0     1672550\n",
       "68.0     1245160\n",
       "93.0     1027851\n",
       "25.0      818683\n",
       "58.0      723588\n",
       "163.0      99990\n",
       "50.0       89410\n",
       "363.0      59883\n",
       "78.0       32156\n",
       "293.0       9589\n",
       "133.0       8734\n",
       "103.0       7001\n",
       "105.0        725\n",
       "53.0         383\n",
       "60.0         372\n",
       "143.0        357\n",
       "98.0         291\n",
       "128.0        274\n",
       "40.0         210\n",
       "10.0         172\n",
       "88.0         154\n",
       "35.0         136\n",
       "55.0          63\n",
       "45.0          59\n",
       "345.0         39\n",
       "255.0         30\n",
       "80.0          24\n",
       "353.0         15\n",
       "30.0           7\n",
       "505.0          6\n",
       "70.0           6\n",
       "85.0           5\n",
       "65.0           5\n",
       "75.0           4\n",
       "123.0          3\n",
       "113.0          1\n",
       "330.0          1\n",
       "155.0          1\n",
       "Name: Fine amount, dtype: int64"
      ]
     },
     "execution_count": 13,
     "metadata": {},
     "output_type": "execute_result"
    }
   ],
   "source": [
    "df_tc['Fine amount'].value_counts()"
   ]
  },
  {
   "cell_type": "code",
   "execution_count": 14,
   "metadata": {},
   "outputs": [
    {
     "data": {
      "text/plain": [
       "<AxesSubplot:>"
      ]
     },
     "execution_count": 14,
     "metadata": {},
     "output_type": "execute_result"
    },
    {
     "data": {
      "image/png": "[encoded data removed]",
      "text/plain": [
       "<Figure size 1440x720 with 1 Axes>"
      ]
     },
     "metadata": {
      "needs_background": "light"
     },
     "output_type": "display_data"
    }
   ],
   "source": [
    "df_tc['Fine amount'].plot(kind=\"box\", figsize=(20,10))"
   ]
  },
  {
   "cell_type": "code",
   "execution_count": 20,
   "metadata": {},
   "outputs": [
    {
     "data": {
      "text/plain": [
       "4042322160.0"
      ]
     },
     "execution_count": 20,
     "metadata": {},
     "output_type": "execute_result"
    }
   ],
   "source": [
    "df_tc['Latitude'].value_counts()\n",
    "df_tc['Latitude'].max()"
   ]
  },
  {
   "cell_type": "code",
   "execution_count": 14,
   "metadata": {},
   "outputs": [
    {
     "data": {
      "text/plain": [
       "<AxesSubplot:>"
      ]
     },
     "execution_count": 14,
     "metadata": {},
     "output_type": "execute_result"
    },
    {
     "data": {
      "image/png": "[encoded data removed]",
      "text/plain": [
       "<Figure size 432x288 with 1 Axes>"
      ]
     },
     "metadata": {
      "needs_background": "light"
     },
     "output_type": "display_data"
    }
   ],
   "source": [
    "df_tc['Latitude'].plot(kind=\"box\")"
   ]
  },
  {
   "cell_type": "code",
   "execution_count": 15,
   "metadata": {},
   "outputs": [
    {
     "data": {
      "text/plain": [
       "<AxesSubplot:>"
      ]
     },
     "execution_count": 15,
     "metadata": {},
     "output_type": "execute_result"
    },
    {
     "data": {
      "image/png": "[encoded data removed]",
      "text/plain": [
       "<Figure size 432x288 with 2 Axes>"
      ]
     },
     "metadata": {
      "needs_background": "light"
     },
     "output_type": "display_data"
    }
   ],
   "source": [
    "corr = df_tc.corr()\n",
    "sns.heatmap(corr, linewidth=0.5)"
   ]
  },
  {
   "cell_type": "code",
   "execution_count": 16,
   "metadata": {},
   "outputs": [
    {
     "data": {
      "text/plain": [
       "Unnamed: 0               False\n",
       "Ticket number            False\n",
       "Issue Date                True\n",
       "Issue time                True\n",
       "Meter Id                  True\n",
       "Marked Time               True\n",
       "RP State Plate            True\n",
       "Plate Expiry Date         True\n",
       "VIN                       True\n",
       "Make                      True\n",
       "Body Style                True\n",
       "Color                     True\n",
       "Location                  True\n",
       "Route                     True\n",
       "Agency                    True\n",
       "Violation code           False\n",
       "Violation Description     True\n",
       "Fine amount               True\n",
       "Latitude                  True\n",
       "Longitude                 True\n",
       "dtype: bool"
      ]
     },
     "execution_count": 16,
     "metadata": {},
     "output_type": "execute_result"
    }
   ],
   "source": [
    "df_tc.isna().any()"
   ]
  },
  {
   "cell_type": "code",
   "execution_count": 10,
   "metadata": {},
   "outputs": [
    {
     "data": {
      "text/plain": [
       "Unnamed: 0                     0\n",
       "Issue Date                   536\n",
       "Issue time                  2583\n",
       "RP State Plate               765\n",
       "Plate Expiry Date         794827\n",
       "Make                     4368470\n",
       "Body Style                  8890\n",
       "Color                       4115\n",
       "Location                     854\n",
       "Route                      65354\n",
       "Agency                       545\n",
       "Violation code                 0\n",
       "Violation Description        872\n",
       "Fine amount                 6507\n",
       "Latitude                       3\n",
       "Longitude                      3\n",
       "dtype: int64"
      ]
     },
     "execution_count": 10,
     "metadata": {},
     "output_type": "execute_result"
    }
   ],
   "source": [
    "df_tc.isna().sum()"
   ]
  },
  {
   "cell_type": "code",
   "execution_count": 9,
   "metadata": {},
   "outputs": [],
   "source": [
    "df_tc = df_tc.drop(columns=['Meter Id', 'Marked Time', 'VIN'])"
   ]
  },
  {
   "cell_type": "code",
   "execution_count": 12,
   "metadata": {},
   "outputs": [],
   "source": [
    "df_tc_make_exists = df_tc.dropna(subset=['Make'])"
   ]
  },
  {
   "cell_type": "code",
   "execution_count": 13,
   "metadata": {},
   "outputs": [],
   "source": [
    "df_tc_make_exists = df_tc_make_exists.loc[df_tc_make_exists['Latitude']!=99999]"
   ]
  },
  {
   "cell_type": "code",
   "execution_count": 14,
   "metadata": {},
   "outputs": [
    {
     "data": {
      "text/html": [
       "<div>\n",
       "<style scoped>\n",
       "    .dataframe tbody tr th:only-of-type {\n",
       "        vertical-align: middle;\n",
       "    }\n",
       "\n",
       "    .dataframe tbody tr th {\n",
       "        vertical-align: top;\n",
       "    }\n",
       "\n",
       "    .dataframe thead th {\n",
       "        text-align: right;\n",
       "    }\n",
       "</style>\n",
       "<table border=\"1\" class=\"dataframe\">\n",
       "  <thead>\n",
       "    <tr style=\"text-align: right;\">\n",
       "      <th></th>\n",
       "      <th>Unnamed: 0</th>\n",
       "      <th>Issue Date</th>\n",
       "      <th>Issue time</th>\n",
       "      <th>RP State Plate</th>\n",
       "      <th>Plate Expiry Date</th>\n",
       "      <th>Make</th>\n",
       "      <th>Body Style</th>\n",
       "      <th>Color</th>\n",
       "      <th>Location</th>\n",
       "      <th>Route</th>\n",
       "      <th>Agency</th>\n",
       "      <th>Violation code</th>\n",
       "      <th>Violation Description</th>\n",
       "      <th>Fine amount</th>\n",
       "      <th>Latitude</th>\n",
       "      <th>Longitude</th>\n",
       "    </tr>\n",
       "    <tr>\n",
       "      <th>Ticket number</th>\n",
       "      <th></th>\n",
       "      <th></th>\n",
       "      <th></th>\n",
       "      <th></th>\n",
       "      <th></th>\n",
       "      <th></th>\n",
       "      <th></th>\n",
       "      <th></th>\n",
       "      <th></th>\n",
       "      <th></th>\n",
       "      <th></th>\n",
       "      <th></th>\n",
       "      <th></th>\n",
       "      <th></th>\n",
       "      <th></th>\n",
       "      <th></th>\n",
       "    </tr>\n",
       "  </thead>\n",
       "  <tbody>\n",
       "    <tr>\n",
       "      <th>1109455266</th>\n",
       "      <td>43</td>\n",
       "      <td>2015-12-26</td>\n",
       "      <td>1815.0</td>\n",
       "      <td>NY</td>\n",
       "      <td>NaN</td>\n",
       "      <td>TOYO</td>\n",
       "      <td>PA</td>\n",
       "      <td>WH</td>\n",
       "      <td>3200 CANYON DR</td>\n",
       "      <td>NaN</td>\n",
       "      <td>36.0</td>\n",
       "      <td>8603</td>\n",
       "      <td>PK IN PROH AREA</td>\n",
       "      <td>68.0</td>\n",
       "      <td>6467477.0</td>\n",
       "      <td>1868721.00</td>\n",
       "    </tr>\n",
       "    <tr>\n",
       "      <th>1109811360</th>\n",
       "      <td>56</td>\n",
       "      <td>2015-12-26</td>\n",
       "      <td>2231.0</td>\n",
       "      <td>CA</td>\n",
       "      <td>201506.0</td>\n",
       "      <td>SCIO</td>\n",
       "      <td>SU</td>\n",
       "      <td>BK</td>\n",
       "      <td>1141 EAGLE VISTA DR</td>\n",
       "      <td>NaN</td>\n",
       "      <td>36.0</td>\n",
       "      <td>8603</td>\n",
       "      <td>PK IN PROH AREA</td>\n",
       "      <td>68.0</td>\n",
       "      <td>6504463.5</td>\n",
       "      <td>1874621.50</td>\n",
       "    </tr>\n",
       "    <tr>\n",
       "      <th>1109818625</th>\n",
       "      <td>58</td>\n",
       "      <td>2015-12-27</td>\n",
       "      <td>2235.0</td>\n",
       "      <td>CA</td>\n",
       "      <td>201601.0</td>\n",
       "      <td>CADI</td>\n",
       "      <td>PA</td>\n",
       "      <td>BK</td>\n",
       "      <td>2551 MOTOR AVE</td>\n",
       "      <td>NaN</td>\n",
       "      <td>34.0</td>\n",
       "      <td>6344K2</td>\n",
       "      <td>NO PK BET 1-3AM</td>\n",
       "      <td>68.0</td>\n",
       "      <td>6438048.0</td>\n",
       "      <td>1839690.75</td>\n",
       "    </tr>\n",
       "    <tr>\n",
       "      <th>1111259715</th>\n",
       "      <td>81</td>\n",
       "      <td>2015-12-26</td>\n",
       "      <td>1920.0</td>\n",
       "      <td>CA</td>\n",
       "      <td>201702.0</td>\n",
       "      <td>OLDS</td>\n",
       "      <td>NaN</td>\n",
       "      <td>BU</td>\n",
       "      <td>501 S VENICE BLVD</td>\n",
       "      <td>NaN</td>\n",
       "      <td>36.0</td>\n",
       "      <td>80714</td>\n",
       "      <td>PRIVATE PROPERTY</td>\n",
       "      <td>68.0</td>\n",
       "      <td>6420102.0</td>\n",
       "      <td>1817944.75</td>\n",
       "    </tr>\n",
       "    <tr>\n",
       "      <th>1111881573</th>\n",
       "      <td>82</td>\n",
       "      <td>2015-12-23</td>\n",
       "      <td>2150.0</td>\n",
       "      <td>CA</td>\n",
       "      <td>201606.0</td>\n",
       "      <td>BMW</td>\n",
       "      <td>SU</td>\n",
       "      <td>WH</td>\n",
       "      <td>380 WORLD WAY U/L</td>\n",
       "      <td>2F91</td>\n",
       "      <td>2.0</td>\n",
       "      <td>8939</td>\n",
       "      <td>WHITE CURB</td>\n",
       "      <td>58.0</td>\n",
       "      <td>6439920.0</td>\n",
       "      <td>1802686.75</td>\n",
       "    </tr>\n",
       "  </tbody>\n",
       "</table>\n",
       "</div>"
      ],
      "text/plain": [
       "               Unnamed: 0 Issue Date  Issue time RP State Plate  \\\n",
       "Ticket number                                                     \n",
       "1109455266             43 2015-12-26      1815.0             NY   \n",
       "1109811360             56 2015-12-26      2231.0             CA   \n",
       "1109818625             58 2015-12-27      2235.0             CA   \n",
       "1111259715             81 2015-12-26      1920.0             CA   \n",
       "1111881573             82 2015-12-23      2150.0             CA   \n",
       "\n",
       "              Plate Expiry Date  Make Body Style Color             Location  \\\n",
       "Ticket number                                                                 \n",
       "1109455266                  NaN  TOYO         PA    WH       3200 CANYON DR   \n",
       "1109811360             201506.0  SCIO         SU    BK  1141 EAGLE VISTA DR   \n",
       "1109818625             201601.0  CADI         PA    BK       2551 MOTOR AVE   \n",
       "1111259715             201702.0  OLDS        NaN    BU    501 S VENICE BLVD   \n",
       "1111881573             201606.0   BMW         SU    WH    380 WORLD WAY U/L   \n",
       "\n",
       "              Route  Agency Violation code Violation Description  Fine amount  \\\n",
       "Ticket number                                                                   \n",
       "1109455266      NaN    36.0           8603       PK IN PROH AREA         68.0   \n",
       "1109811360      NaN    36.0           8603       PK IN PROH AREA         68.0   \n",
       "1109818625      NaN    34.0         6344K2       NO PK BET 1-3AM         68.0   \n",
       "1111259715      NaN    36.0          80714      PRIVATE PROPERTY         68.0   \n",
       "1111881573     2F91     2.0           8939            WHITE CURB         58.0   \n",
       "\n",
       "                Latitude   Longitude  \n",
       "Ticket number                         \n",
       "1109455266     6467477.0  1868721.00  \n",
       "1109811360     6504463.5  1874621.50  \n",
       "1109818625     6438048.0  1839690.75  \n",
       "1111259715     6420102.0  1817944.75  \n",
       "1111881573     6439920.0  1802686.75  "
      ]
     },
     "execution_count": 14,
     "metadata": {},
     "output_type": "execute_result"
    }
   ],
   "source": [
    "df_tc_make_exists.head()"
   ]
  },
  {
   "cell_type": "code",
   "execution_count": 23,
   "metadata": {},
   "outputs": [
    {
     "data": {
      "text/plain": [
       "Unnamed: 0               0\n",
       "Issue Date               0\n",
       "Issue time               0\n",
       "RP State Plate           0\n",
       "Plate Expiry Date        0\n",
       "Make                     0\n",
       "Body Style               0\n",
       "Color                    0\n",
       "Location                 0\n",
       "Route                    0\n",
       "Agency                   0\n",
       "Violation code           0\n",
       "Violation Description    0\n",
       "Fine amount              0\n",
       "Latitude                 0\n",
       "Longitude                0\n",
       "dtype: int64"
      ]
     },
     "execution_count": 23,
     "metadata": {},
     "output_type": "execute_result"
    }
   ],
   "source": [
    "df_tc_make_exists.isna().sum()"
   ]
  },
  {
   "cell_type": "code",
   "execution_count": 22,
   "metadata": {},
   "outputs": [],
   "source": [
    "df_tc_make_exists = df_tc_make_exists.dropna()"
   ]
  },
  {
   "cell_type": "code",
   "execution_count": 24,
   "metadata": {},
   "outputs": [
    {
     "data": {
      "text/plain": [
       "(3343449, 16)"
      ]
     },
     "execution_count": 24,
     "metadata": {},
     "output_type": "execute_result"
    }
   ],
   "source": [
    "df_tc_make_exists.shape"
   ]
  },
  {
   "cell_type": "code",
   "execution_count": 25,
   "metadata": {},
   "outputs": [
    {
     "name": "stdout",
     "output_type": "stream",
     "text": [
      "TOYT    588404\n",
      "HOND    388221\n",
      "FORD    288480\n",
      "NISS    240737\n",
      "CHEV    222612\n",
      "BMW     149805\n",
      "MERZ    134826\n",
      "VOLK    116310\n",
      "HYUN    104970\n",
      "LEXS     98686\n",
      "DODG     95197\n",
      "JEEP     78248\n",
      "KIA      78023\n",
      "AUDI     64059\n",
      "MAZD     63261\n",
      "OTHR     51054\n",
      "GMC      43583\n",
      "CHRY     43190\n",
      "INFI     43117\n",
      "ACUR     41684\n",
      "SUBA     37367\n",
      "VOLV     32149\n",
      "MITS     29334\n",
      "CADI     25106\n",
      "MNNI     24852\n",
      "Name: Make, dtype: int64\n"
     ]
    }
   ],
   "source": [
    "df_top25_makes = df_tc_make_exists.Make.value_counts().head(25)\n",
    "print(df_top25_makes)"
   ]
  },
  {
   "cell_type": "code",
   "execution_count": 26,
   "metadata": {},
   "outputs": [
    {
     "data": {
      "text/plain": [
       "3083275"
      ]
     },
     "execution_count": 26,
     "metadata": {},
     "output_type": "execute_result"
    }
   ],
   "source": [
    "df_top25_makes.sum()"
   ]
  },
  {
   "cell_type": "code",
   "execution_count": 27,
   "metadata": {},
   "outputs": [
    {
     "name": "stdout",
     "output_type": "stream",
     "text": [
      "['TOYT' 'HOND' 'FORD' 'NISS' 'CHEV' 'BMW' 'MERZ' 'VOLK' 'HYUN' 'LEXS'\n",
      " 'DODG' 'JEEP' 'KIA' 'AUDI' 'MAZD' 'OTHR' 'GMC' 'CHRY' 'INFI' 'ACUR'\n",
      " 'SUBA' 'VOLV' 'MITS' 'CADI' 'MNNI']\n"
     ]
    }
   ],
   "source": [
    "top25_arr = df_top25_makes.index.to_numpy()\n",
    "print(top25_arr)"
   ]
  },
  {
   "cell_type": "code",
   "execution_count": 28,
   "metadata": {},
   "outputs": [
    {
     "data": {
      "text/plain": [
       "TOP 25      3083275\n",
       "THE REST     260174\n",
       "Name: Make_mod, dtype: int64"
      ]
     },
     "execution_count": 28,
     "metadata": {},
     "output_type": "execute_result"
    }
   ],
   "source": [
    "df_tc_make_exists['Make_mod'] = np.where(df_tc_make_exists['Make'].isin(top25_arr), \"TOP 25\", \"THE REST\")\n",
    "# df_tc_make_exists.loc[df_tc_make_exists['Make'].isin(top25_arr),'Make_mod'] = \"TOP 25\"\n",
    "# df_tc_make_exists.loc[~df_tc_make_exists['Make'].isin(top25_arr),'Make_mod'] = \"THE REST\"\n",
    "df_tc_make_exists.Make_mod.value_counts()"
   ]
  },
  {
   "cell_type": "code",
   "execution_count": null,
   "metadata": {},
   "outputs": [],
   "source": [
    "# df_tc['Time'] = pd.to_datetime(df_tc['Issue time'],\n",
    "#                               format=\"%H%M\")"
   ]
  }
 ],
 "metadata": {
  "kernelspec": {
   "display_name": "Python 3 (ipykernel)",
   "language": "python",
   "name": "python3"
  },
  "language_info": {
   "codemirror_mode": {
    "name": "ipython",
    "version": 3
   },
   "file_extension": ".py",
   "mimetype": "text/x-python",
   "name": "python",
   "nbconvert_exporter": "python",
   "pygments_lexer": "ipython3",
   "version": "3.9.6"
  }
 },
 "nbformat": 4,
 "nbformat_minor": 4
}
